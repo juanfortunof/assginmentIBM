{
  "nbformat": 4,
  "nbformat_minor": 0,
  "metadata": {
    "colab": {
      "provenance": [],
      "authorship_tag": "ABX9TyNWvDNALIvtZiEJhQo4SJKB",
      "include_colab_link": true
    },
    "kernelspec": {
      "name": "python3",
      "display_name": "Python 3"
    },
    "language_info": {
      "name": "python"
    }
  },
  "cells": [
    {
      "cell_type": "markdown",
      "metadata": {
        "id": "view-in-github",
        "colab_type": "text"
      },
      "source": [
        "<a href=\"https://colab.research.google.com/github/juanfortunof/assginmentIBM/blob/main/DataScienceEcosystem.ipynb\" target=\"_parent\"><img src=\"https://colab.research.google.com/assets/colab-badge.svg\" alt=\"Open In Colab\"/></a>"
      ]
    },
    {
      "cell_type": "markdown",
      "source": [
        "# **Data Science Tools and Ecosystem**"
      ],
      "metadata": {
        "id": "IbBhZcN4K3jv"
      }
    },
    {
      "cell_type": "markdown",
      "source": [
        "2-title.png (\"/content/2-title.png\")"
      ],
      "metadata": {
        "id": "LVJAVolQMpry"
      }
    },
    {
      "cell_type": "markdown",
      "source": [
        "**In this notebook, Data Science Tools and Ecosystem are summarized.**"
      ],
      "metadata": {
        "id": "IwIuBwlfM3wK"
      }
    },
    {
      "cell_type": "markdown",
      "source": [
        "10-objectives.png (\"/content/10-objectives.png\")"
      ],
      "metadata": {
        "id": "fFlDAKd2TgK1"
      }
    },
    {
      "cell_type": "markdown",
      "source": [
        "**Objectives:**\n",
        "\n",
        "- List Popular environments for Data Science\n",
        "- Evaluate arithmetic expressions in Python\n",
        "- List some popular programming languages used in Data Science"
      ],
      "metadata": {
        "id": "NgGuor7ZS3i_"
      }
    },
    {
      "cell_type": "markdown",
      "source": [
        "3-title.png (\"/content/3-intro.png\")"
      ],
      "metadata": {
        "id": "9MGr7VOwNhSH"
      }
    },
    {
      "cell_type": "markdown",
      "source": [
        "Some of the popular languages that Data Scientists use are:\n",
        "\n",
        "1. Python\n",
        "2. SQL\n",
        "3. R"
      ],
      "metadata": {
        "id": "MReb6eOuNxH1"
      }
    },
    {
      "cell_type": "markdown",
      "source": [
        "4-dslanguages.png (\"/content/4-ds.languages.png\")"
      ],
      "metadata": {
        "id": "Iid3YpCmOEml"
      }
    },
    {
      "cell_type": "markdown",
      "source": [
        "Some of the commonly used libraries used by Data Scientists include:\n",
        "\n",
        "1. Pandas\n",
        "2. ggplot\n",
        "3. Scikit-learn"
      ],
      "metadata": {
        "id": "pHM2lkltO7Ou"
      }
    },
    {
      "cell_type": "markdown",
      "source": [
        "5-dslibraries.png (\"/content/5-dslibraries.png\")"
      ],
      "metadata": {
        "id": "Ng5EvwTVPDHv"
      }
    },
    {
      "cell_type": "markdown",
      "source": [
        "Data Science Tools\n",
        "\n",
        "1. Jupyter Notebooks\n",
        "2. VSCode\n",
        "3. Spyder"
      ],
      "metadata": {
        "id": "ejXbi740PZua"
      }
    },
    {
      "cell_type": "markdown",
      "source": [
        "6-dstools.png (\"/content/6-dstools.png\")"
      ],
      "metadata": {
        "id": "8WD5fsuGQHaL"
      }
    },
    {
      "cell_type": "markdown",
      "source": [
        "###Below are a few examples of evaluating arithmetic expressions in Python."
      ],
      "metadata": {
        "id": "sTG_5g54QN-0"
      }
    },
    {
      "cell_type": "markdown",
      "source": [
        "7-introarithmetic.png (\"/content/7-introarithmetic.png\")"
      ],
      "metadata": {
        "id": "2VeZVaEuQunF"
      }
    },
    {
      "cell_type": "markdown",
      "source": [
        "This a simple arithmetic expression to mutiply then add integers"
      ],
      "metadata": {
        "id": "tgp4NcijRP36"
      }
    },
    {
      "cell_type": "code",
      "source": [
        "(3*4)+5"
      ],
      "metadata": {
        "colab": {
          "base_uri": "https://localhost:8080/"
        },
        "id": "PAMm1LU6Qms0",
        "outputId": "f4d0ce9a-d916-4c3f-feed-ea4df581e83b"
      },
      "execution_count": 1,
      "outputs": [
        {
          "output_type": "execute_result",
          "data": {
            "text/plain": [
              "17"
            ]
          },
          "metadata": {},
          "execution_count": 1
        }
      ]
    },
    {
      "cell_type": "markdown",
      "source": [
        "8-multiplyandaddintegers.png (\"/content/8-multiplyandaddintegers.png\")"
      ],
      "metadata": {
        "id": "2B8UIh3mRZM5"
      }
    },
    {
      "cell_type": "markdown",
      "source": [
        "This will convert 200 minutes to hours by diving by 60"
      ],
      "metadata": {
        "id": "VAIQO0ujRuya"
      }
    },
    {
      "cell_type": "code",
      "source": [
        "minutes = 200\n",
        "hours = 200 / 60\n",
        "print(f\"{minutes} minutes are equivalent to {round(hours, 1)} hours\")"
      ],
      "metadata": {
        "colab": {
          "base_uri": "https://localhost:8080/"
        },
        "id": "TfnIXv4XRvMd",
        "outputId": "b85c1bb7-ad48-4006-f4ec-4a82e7e633f7"
      },
      "execution_count": 7,
      "outputs": [
        {
          "output_type": "stream",
          "name": "stdout",
          "text": [
            "200 minutes are equivalent to 3.3 hours\n"
          ]
        }
      ]
    },
    {
      "cell_type": "markdown",
      "source": [
        "9-hourstominutes.png (\"/content/9-hourstominutes.png\")"
      ],
      "metadata": {
        "id": "jfhzdYRKSM0z"
      }
    },
    {
      "cell_type": "markdown",
      "source": [
        "##Author\n",
        "Juan Fortuño"
      ],
      "metadata": {
        "id": "NKYBxafOTv71"
      }
    },
    {
      "cell_type": "markdown",
      "source": [
        "11-authordetails.png (\"/content/11-authordetails.png\")"
      ],
      "metadata": {
        "id": "_A2sAcA_T_2v"
      }
    }
  ]
}